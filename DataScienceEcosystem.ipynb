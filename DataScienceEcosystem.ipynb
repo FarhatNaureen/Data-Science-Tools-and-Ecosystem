{
 "cells": [
  {
   "cell_type": "markdown",
   "id": "320c0c8d-f324-4d26-b89d-9f099ec48237",
   "metadata": {},
   "source": [
    "# Data Science Tools and Ecosystem"
   ]
  },
  {
   "cell_type": "markdown",
   "id": "be05ace9-f461-4c71-b776-86148e7b34b0",
   "metadata": {},
   "source": [
    "This notebook provides a summary of Data Science Tools and Ecosystem."
   ]
  },
  {
   "cell_type": "markdown",
   "id": "a8f98442-986d-4dd4-a89e-a920211780ab",
   "metadata": {},
   "source": [
    "**Objectives:**\n",
    "- List popular languages for Data Science\n",
    "- List Commonly used libraries for Data Science\n",
    "- List development environment open source tools"
   ]
  },
  {
   "cell_type": "markdown",
   "id": "836cda0e-405c-43d8-bfd0-73a630a06a75",
   "metadata": {},
   "source": [
    "Some of the popular languages that Data Scientists use are: \n",
    "1. Python\n",
    "2. R\n",
    "3. SQL\n",
    "4. Scala\n",
    "5. Java"
   ]
  },
  {
   "cell_type": "markdown",
   "id": "31488b8b-3939-42f9-afb6-8cb201a52db0",
   "metadata": {},
   "source": [
    "Some of the commonly used libraries used by Data Scientists include:\n",
    "1. Pandas\n",
    "2. NumPy\n",
    "3. Matplotlib\n",
    "4. Seaborn\n",
    "5. Scikit-learn\n",
    "6. Keras\n",
    "7. TensorFlow\n",
    "8. Vegas"
   ]
  },
  {
   "cell_type": "markdown",
   "id": "6f5a83ed-1da3-4260-943b-bbca7ff2b878",
   "metadata": {},
   "source": [
    "| Data Science Tools|\n",
    "| ------------------|\n",
    "| Jupyter |\n",
    "| RStudio |\n",
    "| Spyder |"
   ]
  },
  {
   "cell_type": "markdown",
   "id": "112cd754-1f72-4540-be04-98c1a2ceacd7",
   "metadata": {},
   "source": [
    "### Below are a few examples of evaluating arithmetic expressions in Python"
   ]
  },
  {
   "cell_type": "code",
   "execution_count": 3,
   "id": "943b672d-5754-40e5-bac7-6c6da3f51f26",
   "metadata": {},
   "outputs": [
    {
     "data": {
      "text/plain": [
       "17"
      ]
     },
     "execution_count": 3,
     "metadata": {},
     "output_type": "execute_result"
    }
   ],
   "source": [
    "# This is a simple arithmetic expression to multiplt then add integers\n",
    "(3*4)+5"
   ]
  },
  {
   "cell_type": "code",
   "execution_count": 2,
   "id": "5e60266e-0cb3-4a50-adf7-a783e4de298e",
   "metadata": {},
   "outputs": [
    {
     "data": {
      "text/plain": [
       "3.3333333333333335"
      ]
     },
     "execution_count": 2,
     "metadata": {},
     "output_type": "execute_result"
    }
   ],
   "source": [
    "# The following expression converts minutes into hours\n",
    "200/60"
   ]
  },
  {
   "cell_type": "markdown",
   "id": "13b56c0d-f34c-4f5b-8399-044204cdf81f",
   "metadata": {},
   "source": [
    "## Author \n",
    "Farhat Naureen"
   ]
  },
  {
   "cell_type": "code",
   "execution_count": null,
   "id": "0745ee93-ae00-4563-bd19-e0aa06dfa292",
   "metadata": {},
   "outputs": [],
   "source": []
  }
 ],
 "metadata": {
  "kernelspec": {
   "display_name": "Python",
   "language": "python",
   "name": "conda-env-python-py"
  },
  "language_info": {
   "codemirror_mode": {
    "name": "ipython",
    "version": 3
   },
   "file_extension": ".py",
   "mimetype": "text/x-python",
   "name": "python",
   "nbconvert_exporter": "python",
   "pygments_lexer": "ipython3",
   "version": "3.7.12"
  }
 },
 "nbformat": 4,
 "nbformat_minor": 5
}
